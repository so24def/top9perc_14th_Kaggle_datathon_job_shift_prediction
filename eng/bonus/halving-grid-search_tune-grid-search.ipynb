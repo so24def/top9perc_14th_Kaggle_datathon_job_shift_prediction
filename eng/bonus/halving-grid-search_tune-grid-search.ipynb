{
 "cells": [
  {
   "cell_type": "code",
   "execution_count": 1,
   "id": "c7786075",
   "metadata": {},
   "outputs": [],
   "source": [
    "import time\n",
    "import numpy as np\n",
    "import pandas as pd\n",
    "import matplotlib.pyplot as plt\n",
    "import seaborn as sns\n",
    "from sklearn.model_selection import StratifiedKFold\n",
    "from sklearn.model_selection import cross_val_score\n",
    "from sklearn.ensemble import RandomForestClassifier\n",
    "pd.set_option('display.max_columns', None)\n",
    "pd.set_option('display.max_rows', 200)"
   ]
  },
  {
   "cell_type": "code",
   "execution_count": 8,
   "id": "b5ebb976",
   "metadata": {},
   "outputs": [],
   "source": [
    "from tune_sklearn import TuneGridSearchCV\n",
    "from sklearn.experimental import enable_halving_search_cv\n",
    "from sklearn.model_selection import HalvingGridSearchCV, HalvingRandomSearchCV"
   ]
  },
  {
   "cell_type": "code",
   "execution_count": 9,
   "id": "f4177e74",
   "metadata": {},
   "outputs": [],
   "source": [
    "def TuneGridSearchCV_tuner(model,grid,x,y):\n",
    "    tgs = TuneGridSearchCV(model,grid,scoring='accuracy',n_jobs=1,cv=skf,verbose=2)\n",
    "    start_time = time.time()\n",
    "    tgs_results = tgs.fit(x,y)\n",
    "    print(\"Model : {}\".format(model))\n",
    "    print('Best Score: %.3f' % tgs_results.best_score_)\n",
    "    print('Config: %s' % tgs_results.best_params_)\n",
    "    print(\"\\n\\n\")\n",
    "    end_time = time.time()\n",
    "    total_time = end_time - start_time\n",
    "    print(\"Total time taken: {} seconds\".format(total_time))\n",
    "    \n",
    "\n",
    "def HalvingGridSearchCV_tuner(model,grid,x,y):\n",
    "    hgs = HalvingGridSearchCV(model,grid,scoring='accuracy',n_jobs=-1,cv=skf,verbose=24,min_resources='exhaust')\n",
    "    start_time = time.time()\n",
    "    hgs_results = hgs.fit(x,y)\n",
    "    print(\"Model : {}\".format(model))\n",
    "    print('Best Score: %.3f' % hgs_results.best_score_)\n",
    "    print('Config: %s' % hgs_results.best_params_)\n",
    "    print(\"\\n\\n\")\n",
    "    end_time = time.time()\n",
    "    total_time = end_time - start_time\n",
    "    print(\"Total time taken: {} seconds\".format(total_time))\n",
    "    \n",
    "def HalvingRandomSearchCV_tuner(model,grid,x,y):\n",
    "    hrs = HalvingRandomSearchCV(model,grid,scoring='accuracy',n_jobs=-1,cv=skf,verbose=24)\n",
    "    start_time = time.time()\n",
    "    hrs_results = hrs.fit(x,y)\n",
    "    print(\"Model : {}\".format(model))\n",
    "    print('Best Score: %.3f' % hrs_results.best_score_)\n",
    "    print('Config: %s' % hrs_results.best_params_)\n",
    "    print(\"\\n\\n\")\n",
    "    end_time = time.time()\n",
    "    total_time = end_time - start_time\n",
    "    print(\"Total time taken: {} seconds\".format(total_time))"
   ]
  },
  {
   "cell_type": "code",
   "execution_count": 10,
   "id": "09c5a240",
   "metadata": {},
   "outputs": [],
   "source": [
    "rf_grid = [{'n_estimators': [300, 500, 1000, 2000],\n",
    "           'criterion': ['gini', 'entropy'],\n",
    "              'max_depth': [10, 20, 30, None],\n",
    "                'min_samples_split': [2, 5, 8, 13],\n",
    "               'min_samples_leaf': [2, 5, 8, 13],\n",
    "               'max_features': ['sqrt', 'log2', None],\n",
    "               'bootstrap': [True, False]\n",
    "           }]\n",
    "model = RandomForestClassifier()"
   ]
  },
  {
   "cell_type": "code",
   "execution_count": 11,
   "id": "d058186b",
   "metadata": {},
   "outputs": [
    {
     "name": "stdout",
     "output_type": "stream",
     "text": [
      "n_iterations: 8\n",
      "n_required_iterations: 8\n",
      "n_possible_iterations: 8\n",
      "min_resources_: 24\n",
      "max_resources_: 53019\n",
      "aggressive_elimination: False\n",
      "factor: 3\n",
      "----------\n",
      "iter: 0\n",
      "n_candidates: 3072\n",
      "n_resources: 24\n",
      "Fitting 5 folds for each of 3072 candidates, totalling 15360 fits\n",
      "----------\n",
      "iter: 1\n",
      "n_candidates: 1024\n",
      "n_resources: 72\n",
      "Fitting 5 folds for each of 1024 candidates, totalling 5120 fits\n",
      "----------\n",
      "iter: 2\n",
      "n_candidates: 342\n",
      "n_resources: 216\n",
      "Fitting 5 folds for each of 342 candidates, totalling 1710 fits\n",
      "----------\n",
      "iter: 3\n",
      "n_candidates: 114\n",
      "n_resources: 648\n",
      "Fitting 5 folds for each of 114 candidates, totalling 570 fits\n",
      "----------\n",
      "iter: 4\n",
      "n_candidates: 38\n",
      "n_resources: 1944\n",
      "Fitting 5 folds for each of 38 candidates, totalling 190 fits\n",
      "----------\n",
      "iter: 5\n",
      "n_candidates: 13\n",
      "n_resources: 5832\n",
      "Fitting 5 folds for each of 13 candidates, totalling 65 fits\n",
      "----------\n",
      "iter: 6\n",
      "n_candidates: 5\n",
      "n_resources: 17496\n",
      "Fitting 5 folds for each of 5 candidates, totalling 25 fits\n",
      "----------\n",
      "iter: 7\n",
      "n_candidates: 2\n",
      "n_resources: 52488\n",
      "Fitting 5 folds for each of 2 candidates, totalling 10 fits\n",
      "Model : RandomForestClassifier()\n",
      "Best Score: 0.744\n",
      "Config: {'bootstrap': True, 'criterion': 'gini', 'max_depth': 30, 'max_features': 'sqrt', 'min_samples_leaf': 2, 'min_samples_split': 13, 'n_estimators': 1000}\n",
      "\n",
      "\n",
      "\n",
      "Total time taken: 9104.567851305008 seconds\n"
     ]
    }
   ],
   "source": [
    "HalvingGridSearchCV_tuner(model,rf_grid,x,y)"
   ]
  },
  {
   "cell_type": "code",
   "execution_count": null,
   "id": "0602274a",
   "metadata": {},
   "outputs": [],
   "source": []
  }
 ],
 "metadata": {
  "kernelspec": {
   "display_name": "Python 3 (ipykernel)",
   "language": "python",
   "name": "python3"
  },
  "language_info": {
   "codemirror_mode": {
    "name": "ipython",
    "version": 3
   },
   "file_extension": ".py",
   "mimetype": "text/x-python",
   "name": "python",
   "nbconvert_exporter": "python",
   "pygments_lexer": "ipython3",
   "version": "3.10.6"
  }
 },
 "nbformat": 4,
 "nbformat_minor": 5
}
